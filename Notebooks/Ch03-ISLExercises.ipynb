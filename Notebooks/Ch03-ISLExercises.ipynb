{
 "cells": [
  {
   "cell_type": "markdown",
   "metadata": {},
   "source": [
    "# Chapter 3 Exercises"
   ]
  },
  {
   "cell_type": "markdown",
   "metadata": {},
   "source": [
    "## Set Up"
   ]
  },
  {
   "cell_type": "code",
   "execution_count": null,
   "metadata": {},
   "outputs": [],
   "source": [
    "# file paths\n",
    "data_root = \"https://raw.githubusercontent.com/kmerkl22/k-s-ISL/main/Data/\"\n",
    "image_root = \"https://github.com/kmerkl22/k-s-ISL/raw/main/Images/\""
   ]
  },
  {
   "cell_type": "code",
   "execution_count": 1,
   "metadata": {},
   "outputs": [],
   "source": [
    "# imports\n",
    "import numpy as np\n",
    "import pandas as pd\n",
    "from matplotlib.pyplot import subplots\n",
    "import statsmodels.api as sm\n",
    "from statsmodels.stats.outliers_influence \\\n",
    "     import variance_inflation_factor as VIF\n",
    "from statsmodels.stats.anova import anova_lm\n",
    "from ISLP import load_data\n",
    "from ISLP.models import (ModelSpec as MS,\n",
    "                         summarize,\n",
    "                         poly)"
   ]
  },
  {
   "cell_type": "markdown",
   "metadata": {},
   "source": [
    "## Problem 8\n",
    "\n",
    "This question involves the use of simple linear regression on the Auto\n",
    "data set."
   ]
  },
  {
   "cell_type": "markdown",
   "metadata": {},
   "source": [
    "### Part a\n",
    "Use the sm.OLS() function to perform a simple linear regression\n",
    "with mpg as the response and horsepower as the predictor. Use\n",
    "the summarize() function to print the results. Comment on the\n",
    "output. For example:\n",
    "1.   Is there a relationship between the predictor and the response?\n",
    "2.   How strong is the relationship between the predictor and\n",
    "the response?\n",
    "3.   Is the relationship between the predictor and the response\n",
    "positive or negative?\n",
    "4.   What is the predicted mpg associated with a horsepower of\n",
    "98? What are the associated 95 % confdence and prediction\n",
    "intervals?"
   ]
  }
 ],
 "metadata": {
  "kernelspec": {
   "display_name": "islp",
   "language": "python",
   "name": "python3"
  },
  "language_info": {
   "codemirror_mode": {
    "name": "ipython",
    "version": 3
   },
   "file_extension": ".py",
   "mimetype": "text/x-python",
   "name": "python",
   "nbconvert_exporter": "python",
   "pygments_lexer": "ipython3",
   "version": "3.11.0"
  }
 },
 "nbformat": 4,
 "nbformat_minor": 2
}
