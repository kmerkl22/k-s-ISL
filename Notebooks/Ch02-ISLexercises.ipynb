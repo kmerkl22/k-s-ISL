{
 "cells": [
  {
   "cell_type": "markdown",
   "id": "245f0c86",
   "metadata": {
    "id": "245f0c86"
   },
   "source": [
    "# Chapter 2 Exercises"
   ]
  },
  {
   "cell_type": "markdown",
   "id": "5ab29948",
   "metadata": {
    "id": "5ab29948"
   },
   "source": [
    "## Set Up"
   ]
  },
  {
   "cell_type": "code",
   "execution_count": null,
   "id": "245408f4",
   "metadata": {},
   "outputs": [],
   "source": [
    "# file paths\n",
    "data_root = \"https://raw.githubusercontent.com/kmerkl22/k-s-ISL/main/Data/\"\n",
    "image_root = \"https://github.com/kmerkl22/k-s-ISL/raw/tree/main/Images\""
   ]
  },
  {
   "cell_type": "code",
   "execution_count": null,
   "id": "f1c7d1db",
   "metadata": {
    "id": "f1c7d1db",
    "lines_to_next_cell": 0
   },
   "outputs": [],
   "source": [
    "# import numpy\n",
    "import numpy as np\n",
    "\n",
    "# import pyplot, subplots, images\n",
    "from matplotlib import pyplot as plt\n",
    "from matplotlib.pyplot import subplots\n",
    "from matplotlib import image as img\n",
    "\n",
    "#import pandas\n",
    "import pandas as pd"
   ]
  },
  {
   "cell_type": "code",
   "execution_count": null,
   "id": "e98472df",
   "metadata": {
    "id": "e98472df",
    "lines_to_next_cell": 0
   },
   "outputs": [],
   "source": [
    "# random number generator seed\n",
    "rng = np.random.default_rng(3)"
   ]
  },
  {
   "cell_type": "markdown",
   "id": "k9uqhMTiCtx0",
   "metadata": {
    "id": "k9uqhMTiCtx0"
   },
   "source": [
    "## Exercise 8"
   ]
  },
  {
   "cell_type": "markdown",
   "id": "HT4muu3N8kCs",
   "metadata": {
    "id": "HT4muu3N8kCs"
   },
   "source": [
    "We are working with the college data set. First we will open it up in google sheets, it looks something like this:"
   ]
  },
  {
   "cell_type": "code",
   "execution_count": null,
   "id": "2EceNWSd5D7E",
   "metadata": {
    "colab": {
     "base_uri": "https://localhost:8080/",
     "height": 825
    },
    "executionInfo": {
     "elapsed": 876,
     "status": "error",
     "timestamp": 1707788683695,
     "user": {
      "displayName": "Katherine Merkl",
      "userId": "01823695249285125649"
     },
     "user_tz": 480
    },
    "id": "2EceNWSd5D7E",
    "outputId": "dbacc288-9a00-4ceb-f03f-81fb6c68334e"
   },
   "outputs": [],
   "source": [
    "import PIL, urllib\n",
    "\n",
    "url = image_root + \"CollegesinGS.png\"\n",
    "image = PIL.Image.open(urllib.request.urlopen(url))\n",
    "plt.title(\"Colleges in Google Sheets\")\n",
    "plt.imshow(image)\n",
    "plt.axis('off')\n",
    "plt.show()"
   ]
  },
  {
   "cell_type": "markdown",
   "id": "wYwFnj8VALNh",
   "metadata": {
    "id": "wYwFnj8VALNh"
   },
   "source": [
    "a) We now want to read in our data and name the loaded data \"college\". We will use pandas (pd) to load the data in."
   ]
  },
  {
   "cell_type": "code",
   "execution_count": null,
   "id": "m26Dp2V_AW7A",
   "metadata": {
    "id": "m26Dp2V_AW7A"
   },
   "outputs": [],
   "source": [
    "college_path = data_root + \"College.csv\"\n",
    "college = pd.read_csv(college_path)"
   ]
  },
  {
   "cell_type": "markdown",
   "id": "pj5h-dqmAnSe",
   "metadata": {
    "id": "pj5h-dqmAnSe"
   },
   "source": [
    "b) Next we look at the data"
   ]
  },
  {
   "cell_type": "code",
   "execution_count": null,
   "id": "KsVa6NlyAv7P",
   "metadata": {
    "colab": {
     "base_uri": "https://localhost:8080/",
     "height": 704
    },
    "executionInfo": {
     "elapsed": 8,
     "status": "ok",
     "timestamp": 1707786597826,
     "user": {
      "displayName": "Sarah Wells",
      "userId": "01595069738944469376"
     },
     "user_tz": 480
    },
    "id": "KsVa6NlyAv7P",
    "outputId": "f52714e0-c2a6-4c69-ecd0-31330d25127d"
   },
   "outputs": [],
   "source": [
    "college"
   ]
  },
  {
   "cell_type": "code",
   "execution_count": null,
   "id": "p9C7b2O6-UcG",
   "metadata": {
    "colab": {
     "base_uri": "https://localhost:8080/",
     "height": 1000
    },
    "executionInfo": {
     "elapsed": 12,
     "status": "ok",
     "timestamp": 1707786598087,
     "user": {
      "displayName": "Sarah Wells",
      "userId": "01595069738944469376"
     },
     "user_tz": 480
    },
    "id": "p9C7b2O6-UcG",
    "outputId": "2bd9915c-c76c-412b-99c9-1c036baf8f71"
   },
   "outputs": [],
   "source": [
    "college.head(25)"
   ]
  },
  {
   "cell_type": "markdown",
   "id": "e7kIqRlXAyMf",
   "metadata": {
    "id": "e7kIqRlXAyMf"
   },
   "source": [
    "We don't really like this unnamed column, so we can try reading the data into pandas a few different ways:"
   ]
  },
  {
   "cell_type": "code",
   "execution_count": null,
   "id": "4PUWzdy8Aw1_",
   "metadata": {
    "colab": {
     "base_uri": "https://localhost:8080/",
     "height": 686
    },
    "executionInfo": {
     "elapsed": 10,
     "status": "ok",
     "timestamp": 1707786598087,
     "user": {
      "displayName": "Sarah Wells",
      "userId": "01595069738944469376"
     },
     "user_tz": 480
    },
    "id": "4PUWzdy8Aw1_",
    "outputId": "988ae2b5-93e7-4a46-ca10-97a32a6c00ae"
   },
   "outputs": [],
   "source": [
    "college2 = pd.read_csv(college_path, index_col=0)\n",
    "college2\n"
   ]
  },
  {
   "cell_type": "markdown",
   "id": "qd7CeoPpBYyK",
   "metadata": {
    "id": "qd7CeoPpBYyK"
   },
   "source": [
    "For college2 we simply told pandas to use the first column (0) as the index"
   ]
  },
  {
   "cell_type": "code",
   "execution_count": null,
   "id": "Rz5qO55uBI-i",
   "metadata": {
    "colab": {
     "base_uri": "https://localhost:8080/",
     "height": 718
    },
    "executionInfo": {
     "elapsed": 182,
     "status": "ok",
     "timestamp": 1707786598260,
     "user": {
      "displayName": "Sarah Wells",
      "userId": "01595069738944469376"
     },
     "user_tz": 480
    },
    "id": "Rz5qO55uBI-i",
    "outputId": "b76aa0b1-d2bf-4382-ad80-8bec45f6d391"
   },
   "outputs": [],
   "source": [
    "college3 = college.rename({'Unnamed: 0': 'College'},\n",
    "axis=1)\n",
    "#axis{0 or ‘index’, 1 or ‘columns’} tells it to do the mapping on the columns by setting axis=1\n",
    "college3 = college3.set_index('College')\n",
    "college3"
   ]
  },
  {
   "cell_type": "markdown",
   "id": "XjyJODeTB7P9",
   "metadata": {
    "id": "XjyJODeTB7P9"
   },
   "source": [
    "For college3 we rename the first column or college as \"College\" and also set this as the index. This is more like what we want, so lets save it as our 'college' dataframe."
   ]
  },
  {
   "cell_type": "code",
   "execution_count": null,
   "id": "4V4TTIgZCj6z",
   "metadata": {
    "id": "4V4TTIgZCj6z"
   },
   "outputs": [],
   "source": [
    "college = college3"
   ]
  },
  {
   "cell_type": "markdown",
   "id": "xbCCAgPbCzyP",
   "metadata": {
    "id": "xbCCAgPbCzyP"
   },
   "source": [
    "c) The describe() method produces a numerical summary of each column in a data frame."
   ]
  },
  {
   "cell_type": "code",
   "execution_count": null,
   "id": "AjQTWkIuDH2D",
   "metadata": {
    "colab": {
     "base_uri": "https://localhost:8080/",
     "height": 320
    },
    "executionInfo": {
     "elapsed": 1007,
     "status": "ok",
     "timestamp": 1707786599257,
     "user": {
      "displayName": "Sarah Wells",
      "userId": "01595069738944469376"
     },
     "user_tz": 480
    },
    "id": "AjQTWkIuDH2D",
    "outputId": "5e4b9b41-211d-4a7e-d0d6-9fef37baf106"
   },
   "outputs": [],
   "source": [
    "college.describe()"
   ]
  },
  {
   "cell_type": "markdown",
   "id": "xPdJ1qYmDSA8",
   "metadata": {
    "id": "xPdJ1qYmDSA8"
   },
   "source": [
    "d)  We want to use the pd.plotting.scatter_matrix() function to produce a\n",
    "scatterplot matrix of the columns [Top10perc, Apps, Enroll].\n",
    "First let's look at a list of columns in college:"
   ]
  },
  {
   "cell_type": "code",
   "execution_count": null,
   "id": "E_-6ag9FDh0_",
   "metadata": {
    "colab": {
     "base_uri": "https://localhost:8080/"
    },
    "executionInfo": {
     "elapsed": 9,
     "status": "ok",
     "timestamp": 1707786599258,
     "user": {
      "displayName": "Sarah Wells",
      "userId": "01595069738944469376"
     },
     "user_tz": 480
    },
    "id": "E_-6ag9FDh0_",
    "outputId": "d36674f9-db72-4c76-f629-25a2370b3477"
   },
   "outputs": [],
   "source": [
    "college.columns"
   ]
  },
  {
   "cell_type": "markdown",
   "id": "ehDAIs3AD7Uu",
   "metadata": {
    "id": "ehDAIs3AD7Uu"
   },
   "source": [
    "Selecting the 3 desired columns we make a scatterplot:"
   ]
  },
  {
   "cell_type": "code",
   "execution_count": null,
   "id": "PwEpoOJyEDUD",
   "metadata": {
    "colab": {
     "base_uri": "https://localhost:8080/",
     "height": 471
    },
    "executionInfo": {
     "elapsed": 7152,
     "status": "ok",
     "timestamp": 1707786606405,
     "user": {
      "displayName": "Sarah Wells",
      "userId": "01595069738944469376"
     },
     "user_tz": 480
    },
    "id": "PwEpoOJyEDUD",
    "outputId": "4b5d9115-8a19-4012-c6b0-44a6c79a2349"
   },
   "outputs": [],
   "source": [
    "pd.plotting.scatter_matrix(college[['Top10perc', 'Apps', 'Enroll']]);"
   ]
  },
  {
   "cell_type": "code",
   "execution_count": null,
   "id": "-bF3T4ahFMZU",
   "metadata": {
    "colab": {
     "base_uri": "https://localhost:8080/"
    },
    "executionInfo": {
     "elapsed": 9,
     "status": "ok",
     "timestamp": 1707786606405,
     "user": {
      "displayName": "Sarah Wells",
      "userId": "01595069738944469376"
     },
     "user_tz": 480
    },
    "id": "-bF3T4ahFMZU",
    "outputId": "ea9be087-3dbd-4210-85c2-40d9a81e52e1"
   },
   "outputs": [],
   "source": [
    "college.iloc[:, 3]"
   ]
  },
  {
   "cell_type": "markdown",
   "id": "mIvF34KjERMr",
   "metadata": {
    "id": "mIvF34KjERMr"
   },
   "source": [
    "Let's also try selecting them by column number"
   ]
  },
  {
   "cell_type": "code",
   "execution_count": null,
   "id": "JwXGRovdET8b",
   "metadata": {
    "colab": {
     "base_uri": "https://localhost:8080/",
     "height": 471
    },
    "executionInfo": {
     "elapsed": 2491,
     "status": "ok",
     "timestamp": 1707786608890,
     "user": {
      "displayName": "Sarah Wells",
      "userId": "01595069738944469376"
     },
     "user_tz": 480
    },
    "id": "JwXGRovdET8b",
    "outputId": "f756e286-e192-481d-a17f-bf04e7a1f702"
   },
   "outputs": [],
   "source": [
    "pd.plotting.scatter_matrix(college.iloc[:,[1,3,4]]);"
   ]
  },
  {
   "cell_type": "markdown",
   "id": "xJZibQE3F-0j",
   "metadata": {
    "id": "xJZibQE3F-0j"
   },
   "source": [
    "e) Use the boxplot() method of college to produce side-by-side\n",
    "boxplots of Outstate versus Private."
   ]
  },
  {
   "cell_type": "code",
   "execution_count": null,
   "id": "507LkFJJGbUA",
   "metadata": {
    "colab": {
     "base_uri": "https://localhost:8080/",
     "height": 761
    },
    "executionInfo": {
     "elapsed": 534,
     "status": "ok",
     "timestamp": 1707786609419,
     "user": {
      "displayName": "Sarah Wells",
      "userId": "01595069738944469376"
     },
     "user_tz": 480
    },
    "id": "507LkFJJGbUA",
    "outputId": "699ba262-e625-4ba7-ef21-e2b845b8eb5c"
   },
   "outputs": [],
   "source": [
    "fig, ax = subplots(figsize=(8, 8))\n",
    "college.boxplot('Outstate', by='Private', ax=ax)"
   ]
  },
  {
   "cell_type": "markdown",
   "id": "VPnUZ7ANIgPG",
   "metadata": {
    "id": "VPnUZ7ANIgPG"
   },
   "source": [
    "f) Create a new qualitative variable, called Elite, by binning the\n",
    "Top10perc variable into two groups based on whether or not the\n",
    "proportion of students coming from the top 10% of their high\n",
    "school classes exceeds 50%"
   ]
  },
  {
   "cell_type": "code",
   "execution_count": null,
   "id": "uSGEOnyHXFBh",
   "metadata": {
    "id": "uSGEOnyHXFBh"
   },
   "outputs": [],
   "source": [
    "college['Elite'] = pd.cut(college['Top10perc'],[0, 50, 100], labels=['No','Yes'])\n"
   ]
  },
  {
   "cell_type": "markdown",
   "id": "L7sX1yxYb60i",
   "metadata": {
    "id": "L7sX1yxYb60i"
   },
   "source": [
    "try to count elites"
   ]
  },
  {
   "cell_type": "code",
   "execution_count": null,
   "id": "7Dqi1TvhcD14",
   "metadata": {
    "colab": {
     "base_uri": "https://localhost:8080/"
    },
    "executionInfo": {
     "elapsed": 9,
     "status": "ok",
     "timestamp": 1707786609597,
     "user": {
      "displayName": "Sarah Wells",
      "userId": "01595069738944469376"
     },
     "user_tz": 480
    },
    "id": "7Dqi1TvhcD14",
    "outputId": "600db44f-6fb3-4a87-b194-415d9dec95bf"
   },
   "outputs": [],
   "source": [
    "college['Elite'].value_counts()"
   ]
  },
  {
   "cell_type": "code",
   "execution_count": null,
   "id": "WHl_R3W8cYfO",
   "metadata": {
    "colab": {
     "base_uri": "https://localhost:8080/"
    },
    "executionInfo": {
     "elapsed": 8,
     "status": "ok",
     "timestamp": 1707786609597,
     "user": {
      "displayName": "Sarah Wells",
      "userId": "01595069738944469376"
     },
     "user_tz": 480
    },
    "id": "WHl_R3W8cYfO",
    "outputId": "d312e01d-55e0-45ba-c471-ce55c7bd267a"
   },
   "outputs": [],
   "source": [
    "college['Elite']"
   ]
  },
  {
   "cell_type": "markdown",
   "id": "EjuH-Q0G8ws2",
   "metadata": {
    "id": "EjuH-Q0G8ws2"
   },
   "source": [
    "Make a boxplot of Elite and Outstate"
   ]
  },
  {
   "cell_type": "code",
   "execution_count": null,
   "id": "1YHKCRvi8vy9",
   "metadata": {
    "colab": {
     "base_uri": "https://localhost:8080/"
    },
    "executionInfo": {
     "elapsed": 6,
     "status": "ok",
     "timestamp": 1707786609597,
     "user": {
      "displayName": "Sarah Wells",
      "userId": "01595069738944469376"
     },
     "user_tz": 480
    },
    "id": "1YHKCRvi8vy9",
    "outputId": "9f8f9936-1f44-4e01-bd64-754206e70a15"
   },
   "outputs": [],
   "source": [
    "fig, ax = subplots(figsize=(8, 8))\n",
    "college.boxplot('Outstate', by='Elite', ax=ax)"
   ]
  },
  {
   "cell_type": "markdown",
   "id": "Vp9oIdQaeB0Z",
   "metadata": {
    "id": "Vp9oIdQaeB0Z"
   },
   "source": [
    "g) Use the plot.hist() method of college to produce some histograms with difering numbers of bins for a few of the quantitative variables. The command plt.subplots(2, 2) may be useful: it will divide the plot window into four regions so that four\n",
    "plots can be made simultaneously. By changing the arguments\n",
    "you can divide the screen up in other combinations."
   ]
  },
  {
   "cell_type": "code",
   "execution_count": null,
   "id": "law7-0_DeIqU",
   "metadata": {
    "colab": {
     "base_uri": "https://localhost:8080/",
     "height": 447
    },
    "executionInfo": {
     "elapsed": 1672,
     "status": "ok",
     "timestamp": 1707786611266,
     "user": {
      "displayName": "Sarah Wells",
      "userId": "01595069738944469376"
     },
     "user_tz": 480
    },
    "id": "law7-0_DeIqU",
    "outputId": "89713cb3-0e8d-448f-ec96-0c47db752a72"
   },
   "outputs": [],
   "source": [
    "college.plot.hist()"
   ]
  },
  {
   "cell_type": "markdown",
   "id": "b1W2UHD2_C-L",
   "metadata": {
    "id": "b1W2UHD2_C-L"
   },
   "source": [
    "Plot each using histogram bins and 2x2 subplot"
   ]
  },
  {
   "cell_type": "code",
   "execution_count": null,
   "id": "IkZ9HZW0_IHL",
   "metadata": {
    "colab": {
     "base_uri": "https://localhost:8080/",
     "height": 430
    },
    "executionInfo": {
     "elapsed": 1407,
     "status": "ok",
     "timestamp": 1707786655873,
     "user": {
      "displayName": "Sarah Wells",
      "userId": "01595069738944469376"
     },
     "user_tz": 480
    },
    "id": "IkZ9HZW0_IHL",
    "outputId": "74490b01-c4aa-4fcc-d980-0171a5e7df9a"
   },
   "outputs": [],
   "source": [
    "# Plot histograms\n",
    "fig = plt.figure()\n",
    "\n",
    "plt.subplot(221)\n",
    "college['Accept'].plot.hist(bins=4)\n",
    "plt.subplot(222)\n",
    "college['Apps'].plot.hist(bins=6)\n",
    "plt.subplot(223)\n",
    "college['Grad.Rate'].plot.hist(bins=7)\n",
    "plt.subplot(224)\n",
    "college['Room.Board'].plot.hist(bins=5)\n",
    "\n",
    "fig.subplots_adjust(hspace=1) # Add space between plots\n"
   ]
  },
  {
   "cell_type": "markdown",
   "id": "3l3bSTY5BIqR",
   "metadata": {
    "id": "3l3bSTY5BIqR"
   },
   "source": [
    "h) Continue to explore the data."
   ]
  },
  {
   "cell_type": "markdown",
   "id": "6c902097",
   "metadata": {},
   "source": [
    "## Exercise 9"
   ]
  },
  {
   "cell_type": "markdown",
   "id": "3dd5a08f",
   "metadata": {},
   "source": [
    "Read in the data"
   ]
  },
  {
   "cell_type": "code",
   "execution_count": null,
   "id": "30ff368e",
   "metadata": {},
   "outputs": [],
   "source": [
    "Auto = pd.read_csv(data_root + \"Auto.csv\")\n",
    "Auto"
   ]
  },
  {
   "cell_type": "markdown",
   "id": "d9d79c22",
   "metadata": {},
   "source": [
    "Look at mpg and displacement data"
   ]
  },
  {
   "cell_type": "code",
   "execution_count": null,
   "id": "e3352542",
   "metadata": {},
   "outputs": [],
   "source": [
    "Auto['mpg']"
   ]
  },
  {
   "cell_type": "code",
   "execution_count": null,
   "id": "c3a62ff5",
   "metadata": {},
   "outputs": [],
   "source": [
    "np.max(Auto['mpg']), np.min(Auto['mpg'])"
   ]
  },
  {
   "cell_type": "code",
   "execution_count": null,
   "id": "f23f4838",
   "metadata": {},
   "outputs": [],
   "source": [
    "np.max(Auto['displacement']), np.min(Auto['displacement'])"
   ]
  },
  {
   "cell_type": "code",
   "execution_count": null,
   "id": "e096db87",
   "metadata": {},
   "outputs": [],
   "source": [
    "np.mean(Auto['mpg']), np.std(Auto['mpg'])"
   ]
  },
  {
   "cell_type": "markdown",
   "id": "72c42362",
   "metadata": {},
   "source": [
    "Read in auto.data file"
   ]
  },
  {
   "cell_type": "code",
   "execution_count": null,
   "id": "82b4ce75",
   "metadata": {},
   "outputs": [],
   "source": [
    "Auto = pd.read_csv(data_root + \"Auto.data\",\n",
    "                  na_values=['?'],\n",
    "                  delim_whitespace=True)\n"
   ]
  },
  {
   "cell_type": "code",
   "execution_count": null,
   "id": "edec35e1",
   "metadata": {},
   "outputs": [],
   "source": [
    "\n",
    "Auto['horsepower'].sum()\n"
   ]
  },
  {
   "cell_type": "code",
   "execution_count": null,
   "id": "a971893b",
   "metadata": {},
   "outputs": [],
   "source": [
    "\n",
    "\n",
    "# In[17]:\n",
    "\n",
    "\n",
    "np.max(Auto['horsepower']), np.min(Auto['horsepower'])\n",
    "\n",
    "\n",
    "# In[18]:\n",
    "\n",
    "\n",
    "np.max(Auto['weight']), np.min(Auto['weight'])\n",
    "\n",
    "\n",
    "# In[19]:\n",
    "\n",
    "\n",
    "np.max(Auto['acceleration']), np.min(Auto['acceleration'])\n",
    "\n",
    "\n",
    "# In[20]:\n",
    "\n",
    "\n",
    "np.mean(Auto['displacement']), np.std(Auto['displacement'])\n",
    "\n",
    "\n",
    "# In[22]:\n",
    "\n",
    "\n",
    "np.mean(Auto['weight']), np.std(Auto['weight'])\n",
    "\n",
    "\n",
    "# In[23]:\n",
    "\n",
    "\n",
    "np.mean(Auto['acceleration']), np.std(Auto['acceleration'])\n",
    "\n",
    "\n",
    "# In[24]:\n",
    "\n",
    "\n",
    "data = Auto.drop(labels=range(10,86), axis=0)\n",
    "\n",
    "\n",
    "# In[25]:\n",
    "\n",
    "\n",
    "data\n",
    "\n",
    "\n",
    "# In[26]:\n",
    "\n",
    "\n",
    "np.max(data['mpg']), np.min(data['mpg']), np.mean(data['mpg']), np.std(data['mpg'])\n",
    "\n",
    "\n",
    "# In[27]:\n",
    "\n",
    "\n",
    "np.max(data['displacement']), np.min(data['displacement']), np.mean(data['displacement']), np.std(data['displacement'])\n",
    "\n",
    "\n",
    "# In[28]:\n",
    "\n",
    "\n",
    "np.max(data['horsepower']), np.min(data['horsepower']), np.mean(data['horsepower']), np.std(data['horsepower'])\n",
    "\n",
    "\n",
    "# In[29]:\n",
    "\n",
    "\n",
    "np.max(data['weight']), np.min(data['weight']), np.mean(data['weight']), np.std(data['weight'])\n",
    "\n",
    "\n",
    "# In[30]:\n",
    "\n",
    "\n",
    "np.max(data['acceleration']), np.min(data['acceleration']), np.mean(data['acceleration']), np.std(data['acceleration'])\n",
    "\n",
    "\n",
    "# In[34]:\n",
    "\n",
    "\n",
    "from matplotlib.pyplot import subplots\n",
    "fig, ax = subplots(figsize=(8,8))\n",
    "Auto.boxplot('mpg', by='horsepower', ax=ax);\n",
    "\n",
    "\n",
    "# In[42]:\n",
    "\n",
    "\n",
    "import matplotlib.pyplot as plt\n",
    "plt.scatter(Auto['mpg'], Auto['horsepower']);\n",
    "plt.xlabel(\"MPG\");\n",
    "plt.ylabel(\"Horsepower\");\n",
    "\n",
    "\n",
    "# In[43]:\n",
    "\n",
    "\n",
    "plt.scatter(Auto['mpg'], Auto['displacement']);\n",
    "plt.xlabel(\"MPG\");\n",
    "plt.ylabel(\"Displacement\");\n",
    "\n",
    "\n",
    "# In[44]:\n",
    "\n",
    "\n",
    "plt.scatter(Auto['mpg'], Auto['weight']);\n",
    "plt.xlabel(\"MPG\");\n",
    "plt.ylabel(\"Weight\");\n",
    "\n",
    "\n",
    "# In[45]:\n",
    "\n",
    "\n",
    "plt.scatter(Auto['mpg'], Auto['acceleration']);\n",
    "plt.xlabel(\"MPG\");\n",
    "plt.ylabel(\"Acceleration\");\n",
    "\n",
    "\n",
    "# In[46]:\n",
    "\n",
    "\n",
    "plt.scatter(Auto['displacement'], Auto['horsepower']);\n",
    "plt.xlabel(\"Displacement\");\n",
    "plt.ylabel(\"Horsepower\");\n",
    "\n",
    "\n",
    "# In[47]:\n",
    "\n",
    "\n",
    "plt.scatter(Auto['weight'], Auto['horsepower']);\n",
    "plt.xlabel(\"Weight\");\n",
    "plt.ylabel(\"Horsepower\");\n",
    "\n",
    "\n",
    "# In[48]:\n",
    "\n",
    "\n",
    "plt.scatter(Auto['mpg'], Auto['year']);\n",
    "plt.xlabel(\"MPG\");\n",
    "plt.ylabel(\"Year\");\n",
    "\n",
    "\n",
    "# In[49]:\n",
    "\n",
    "\n",
    "plt.scatter(Auto['mpg'], Auto['cylinders']);\n",
    "plt.xlabel(\"MPG\");\n",
    "plt.ylabel(\"Cylinders\");\n",
    "\n",
    "\n",
    "# In[50]:\n",
    "\n",
    "\n",
    "plt.scatter(Auto['mpg'], Auto['origin']);\n",
    "plt.xlabel(\"MPG\");\n",
    "plt.ylabel(\"Origin\");"
   ]
  },
  {
   "cell_type": "markdown",
   "id": "EI7OFaFxgT8Y",
   "metadata": {
    "id": "EI7OFaFxgT8Y"
   },
   "source": [
    "## Exercise 10"
   ]
  },
  {
   "cell_type": "markdown",
   "id": "L7qNQmQJgYrS",
   "metadata": {
    "id": "L7qNQmQJgYrS"
   },
   "source": [
    "a) Load Boston data set"
   ]
  },
  {
   "cell_type": "code",
   "execution_count": null,
   "id": "judrQQs3gleQ",
   "metadata": {
    "colab": {
     "base_uri": "https://localhost:8080/",
     "height": 321
    },
    "executionInfo": {
     "elapsed": 1316,
     "status": "error",
     "timestamp": 1707788697671,
     "user": {
      "displayName": "Katherine Merkl",
      "userId": "01823695249285125649"
     },
     "user_tz": 480
    },
    "id": "judrQQs3gleQ",
    "outputId": "7a875c59-ff08-440b-cba4-40d51f3b505b"
   },
   "outputs": [],
   "source": [
    "from ISLP import load_data"
   ]
  },
  {
   "cell_type": "code",
   "execution_count": null,
   "id": "yZdCuFs1i3-h",
   "metadata": {
    "id": "yZdCuFs1i3-h"
   },
   "outputs": [],
   "source": [
    "Boston = load_data('Boston')"
   ]
  },
  {
   "cell_type": "code",
   "execution_count": null,
   "id": "NfeMSgO1j5Mw",
   "metadata": {
    "colab": {
     "base_uri": "https://localhost:8080/"
    },
    "executionInfo": {
     "elapsed": 163,
     "status": "ok",
     "timestamp": 1707786695076,
     "user": {
      "displayName": "Sarah Wells",
      "userId": "01595069738944469376"
     },
     "user_tz": 480
    },
    "id": "NfeMSgO1j5Mw",
    "outputId": "634e751a-adba-451e-f3f3-8770cce05a90"
   },
   "outputs": [],
   "source": [
    "type(Boston)"
   ]
  },
  {
   "cell_type": "markdown",
   "id": "sV5R0VHTkDnx",
   "metadata": {
    "id": "sV5R0VHTkDnx"
   },
   "source": [
    "Boston is of the correct type, dataframe"
   ]
  },
  {
   "cell_type": "code",
   "execution_count": null,
   "id": "x4vTIDyQBluI",
   "metadata": {
    "colab": {
     "base_uri": "https://localhost:8080/",
     "height": 423
    },
    "executionInfo": {
     "elapsed": 264,
     "status": "ok",
     "timestamp": 1707786790922,
     "user": {
      "displayName": "Sarah Wells",
      "userId": "01595069738944469376"
     },
     "user_tz": 480
    },
    "id": "x4vTIDyQBluI",
    "outputId": "20ae28b5-e816-4663-b303-f305770c1a7f"
   },
   "outputs": [],
   "source": [
    "Boston"
   ]
  },
  {
   "cell_type": "markdown",
   "id": "D2nXHQ2FDk7N",
   "metadata": {
    "id": "D2nXHQ2FDk7N"
   },
   "source": [
    "Description from [site](https://islp.readthedocs.io/en/latest/datasets/Boston.html):\n",
    "\n",
    "A data set containing housing values in 506 suburbs of Boston.\n",
    "     \n",
    "- `crim`: per capita crime rate by town.\n",
    "\n",
    "- `zn`: proportion of residential land zoned for lots over 25,000\n",
    "          sq.ft.\n",
    "\n",
    "- `indus`: proportion of non-retail business acres per town.\n",
    "\n",
    "- `chas`: Charles River dummy variable (= 1 if tract bounds river; 0\n",
    "          otherwise).\n",
    "\n",
    "- `nox`: nitrogen oxides concentration (parts per 10 million).\n",
    "\n",
    "- `rm`: average number of rooms per dwelling.\n",
    "\n",
    "- `age`: proportion of owner-occupied units built prior to 1940.\n",
    "\n",
    "- `dis`: weighted mean of distances to five Boston employment\n",
    "          centres.\n",
    "\n",
    "- `rad`: index of accessibility to radial highways.\n",
    "\n",
    "- `tax`: full-value property-tax rate per $10,000.\n",
    "\n",
    "- `ptratio`: pupil-teacher ratio by town.\n",
    "\n",
    "- `lstat`: lower status of the population (percent).\n",
    "\n",
    "- `medv`: median value of owner-occupied homes in $1000s."
   ]
  },
  {
   "cell_type": "markdown",
   "id": "WAr29NNAk-Zy",
   "metadata": {
    "id": "WAr29NNAk-Zy"
   },
   "source": [
    "b) To get the rows and columns I'll look at the shape"
   ]
  },
  {
   "cell_type": "code",
   "execution_count": null,
   "id": "K5RoKtCSk3fF",
   "metadata": {
    "colab": {
     "base_uri": "https://localhost:8080/"
    },
    "executionInfo": {
     "elapsed": 190,
     "status": "ok",
     "timestamp": 1707786746550,
     "user": {
      "displayName": "Sarah Wells",
      "userId": "01595069738944469376"
     },
     "user_tz": 480
    },
    "id": "K5RoKtCSk3fF",
    "outputId": "950faf28-502e-4732-fa58-d8d83bb224d9"
   },
   "outputs": [],
   "source": [
    "Boston.shape"
   ]
  },
  {
   "cell_type": "markdown",
   "id": "k-MMLy0VlJ_w",
   "metadata": {
    "id": "k-MMLy0VlJ_w"
   },
   "source": [
    "We have 506 rows representing towns in the boston area and 13 columns representing features of them"
   ]
  },
  {
   "cell_type": "markdown",
   "id": "OGXIii0-lt6Z",
   "metadata": {
    "id": "OGXIii0-lt6Z"
   },
   "source": [
    "c) Pairwise scatterplots"
   ]
  },
  {
   "cell_type": "markdown",
   "id": "z-Jnf0v5C1BV",
   "metadata": {
    "id": "z-Jnf0v5C1BV"
   },
   "source": [
    "Look at columns"
   ]
  },
  {
   "cell_type": "code",
   "execution_count": null,
   "id": "OIwIAGRcmJtN",
   "metadata": {
    "colab": {
     "base_uri": "https://localhost:8080/"
    },
    "executionInfo": {
     "elapsed": 162,
     "status": "ok",
     "timestamp": 1707787111048,
     "user": {
      "displayName": "Sarah Wells",
      "userId": "01595069738944469376"
     },
     "user_tz": 480
    },
    "id": "OIwIAGRcmJtN",
    "outputId": "2279bb59-6b73-4fb8-cc27-0cd2255bf867"
   },
   "outputs": [],
   "source": [
    "Boston.columns"
   ]
  },
  {
   "cell_type": "markdown",
   "id": "f4TwWgOuC29Z",
   "metadata": {
    "id": "f4TwWgOuC29Z"
   },
   "source": [
    "Make a scatterplot of a few"
   ]
  },
  {
   "cell_type": "code",
   "execution_count": null,
   "id": "Ikl2eoqvDBIp",
   "metadata": {
    "colab": {
     "base_uri": "https://localhost:8080/",
     "height": 460
    },
    "executionInfo": {
     "elapsed": 1834,
     "status": "ok",
     "timestamp": 1707787442938,
     "user": {
      "displayName": "Sarah Wells",
      "userId": "01595069738944469376"
     },
     "user_tz": 480
    },
    "id": "Ikl2eoqvDBIp",
    "outputId": "f7780fc8-c10e-4667-8094-17c450889b68"
   },
   "outputs": [],
   "source": [
    "pd.plotting.scatter_matrix(Boston.iloc[:,[0,3,4,9]]);"
   ]
  },
  {
   "cell_type": "markdown",
   "id": "Z4BAsJPDmkza",
   "metadata": {
    "id": "Z4BAsJPDmkza"
   },
   "source": [
    "d) Predictors associated with per capita crime rate?\n"
   ]
  },
  {
   "cell_type": "markdown",
   "id": "PjmV7kMXD0ff",
   "metadata": {
    "id": "PjmV7kMXD0ff"
   },
   "source": [
    "From above, it looks like there may be a correlation with nox. Let's try a few more."
   ]
  },
  {
   "cell_type": "code",
   "execution_count": null,
   "id": "OY-JsJ-bD7s3",
   "metadata": {
    "colab": {
     "base_uri": "https://localhost:8080/",
     "height": 460
    },
    "executionInfo": {
     "elapsed": 3805,
     "status": "ok",
     "timestamp": 1707787544886,
     "user": {
      "displayName": "Sarah Wells",
      "userId": "01595069738944469376"
     },
     "user_tz": 480
    },
    "id": "OY-JsJ-bD7s3",
    "outputId": "7fe7e8b9-899f-44f2-9770-a9430efccc55"
   },
   "outputs": [],
   "source": [
    "pd.plotting.scatter_matrix(Boston.iloc[:,[0,1,2,3,4,5,6]]);"
   ]
  },
  {
   "cell_type": "code",
   "execution_count": null,
   "id": "ABXzEdoMEeif",
   "metadata": {
    "colab": {
     "base_uri": "https://localhost:8080/",
     "height": 457
    },
    "executionInfo": {
     "elapsed": 4626,
     "status": "ok",
     "timestamp": 1707787564942,
     "user": {
      "displayName": "Sarah Wells",
      "userId": "01595069738944469376"
     },
     "user_tz": 480
    },
    "id": "ABXzEdoMEeif",
    "outputId": "596f7f52-cd0b-4a98-c7cc-1f209a9d9089"
   },
   "outputs": [],
   "source": [
    "pd.plotting.scatter_matrix(Boston.iloc[:,[0,7,8,9,10,11,12]]);"
   ]
  },
  {
   "cell_type": "markdown",
   "id": "xfHNCWrOEVeM",
   "metadata": {
    "id": "xfHNCWrOEVeM"
   },
   "source": [
    "Potential: nox, rm, age, lstat, medv"
   ]
  },
  {
   "cell_type": "code",
   "execution_count": null,
   "id": "oBpvmVKyE0iM",
   "metadata": {
    "colab": {
     "base_uri": "https://localhost:8080/",
     "height": 522
    },
    "executionInfo": {
     "elapsed": 733,
     "status": "ok",
     "timestamp": 1707787695306,
     "user": {
      "displayName": "Sarah Wells",
      "userId": "01595069738944469376"
     },
     "user_tz": 480
    },
    "id": "oBpvmVKyE0iM",
    "outputId": "46ca9839-2a81-4c67-a408-129b03929511"
   },
   "outputs": [],
   "source": [
    "pd.plotting.scatter_matrix(Boston[['crim', 'nox'\n",
    "]])"
   ]
  },
  {
   "cell_type": "code",
   "execution_count": null,
   "id": "Y9GiZc9uFIvn",
   "metadata": {
    "colab": {
     "base_uri": "https://localhost:8080/",
     "height": 519
    },
    "executionInfo": {
     "elapsed": 735,
     "status": "ok",
     "timestamp": 1707787763345,
     "user": {
      "displayName": "Sarah Wells",
      "userId": "01595069738944469376"
     },
     "user_tz": 480
    },
    "id": "Y9GiZc9uFIvn",
    "outputId": "baf3c218-ccdf-474c-9430-ce1f5c6f0b09"
   },
   "outputs": [],
   "source": [
    "pd.plotting.scatter_matrix(Boston[['crim', 'rm'\n",
    "]])"
   ]
  },
  {
   "cell_type": "code",
   "execution_count": null,
   "id": "8zjBoIfZFT9R",
   "metadata": {
    "colab": {
     "base_uri": "https://localhost:8080/",
     "height": 519
    },
    "executionInfo": {
     "elapsed": 705,
     "status": "ok",
     "timestamp": 1707787774533,
     "user": {
      "displayName": "Sarah Wells",
      "userId": "01595069738944469376"
     },
     "user_tz": 480
    },
    "id": "8zjBoIfZFT9R",
    "outputId": "1924aa0a-0008-4ea0-85ce-441c0dd7efe1"
   },
   "outputs": [],
   "source": [
    "pd.plotting.scatter_matrix(Boston[['crim', 'lstat'\n",
    "]])"
   ]
  },
  {
   "cell_type": "code",
   "execution_count": null,
   "id": "ukD_XzvAFVue",
   "metadata": {
    "colab": {
     "base_uri": "https://localhost:8080/",
     "height": 519
    },
    "executionInfo": {
     "elapsed": 653,
     "status": "ok",
     "timestamp": 1707787792334,
     "user": {
      "displayName": "Sarah Wells",
      "userId": "01595069738944469376"
     },
     "user_tz": 480
    },
    "id": "ukD_XzvAFVue",
    "outputId": "d1a68229-2e62-4fc7-9803-ee04c79fd56f"
   },
   "outputs": [],
   "source": [
    "pd.plotting.scatter_matrix(Boston[['crim', 'medv'\n",
    "]])"
   ]
  },
  {
   "cell_type": "markdown",
   "id": "PAT8Zs1amyL1",
   "metadata": {
    "id": "PAT8Zs1amyL1"
   },
   "source": [
    "e) Which suburbs have particularly high crime rates? Tax rates? Pupil-teacher ratios? Comment on the range of each predictor"
   ]
  },
  {
   "cell_type": "markdown",
   "id": "MzltUHzRFm2a",
   "metadata": {
    "id": "MzltUHzRFm2a"
   },
   "source": [
    "Make boxplots to look for outliers"
   ]
  },
  {
   "cell_type": "code",
   "execution_count": null,
   "id": "tfEGXPv1FmNJ",
   "metadata": {
    "id": "tfEGXPv1FmNJ"
   },
   "outputs": [],
   "source": [
    "#fig, ax = subplots(figsize=(8, 8))\n",
    "#Boston.boxplot('crim', by='tax rates', ax=ax)"
   ]
  },
  {
   "cell_type": "markdown",
   "id": "1I3DyQRRm4P_",
   "metadata": {
    "id": "1I3DyQRRm4P_"
   },
   "source": [
    "f)"
   ]
  }
 ],
 "metadata": {
  "colab": {
   "provenance": [
    {
     "file_id": "1Cl06GtcnVFktmo4ntjHLTu_7b9Nb_zhf",
     "timestamp": 1707788253776
    },
    {
     "file_id": "1c-8T69Dvo8x6Q9pczH65jeJYDQXsEpr1",
     "timestamp": 1706743659512
    }
   ]
  },
  "jupytext": {
   "cell_metadata_filter": "-all",
   "formats": "Rmd,ipynb",
   "main_language": "python"
  },
  "kernelspec": {
   "display_name": "Python 3 (ipykernel)",
   "language": "python",
   "name": "python3"
  },
  "language_info": {
   "codemirror_mode": {
    "name": "ipython",
    "version": 3
   },
   "file_extension": ".py",
   "mimetype": "text/x-python",
   "name": "python",
   "nbconvert_exporter": "python",
   "pygments_lexer": "ipython3",
   "version": "3.11.7"
  }
 },
 "nbformat": 4,
 "nbformat_minor": 5
}
